{
 "cells": [
  {
   "cell_type": "markdown",
   "id": "fa0401e2",
   "metadata": {},
   "source": [
    "# Going For It\n",
    "\n",
    "This project investigates using the 2020 season's data, whether the Green Bay Packers should have gone for it on their 4th and Goal vs the Tampa Bay Buccaneers.\n",
    "\n",
    "Trailing 31-23, Green Bay were left with a 4th and 8, with under 2 minutes remaining. With soon to be crowned MVP, and all-time great QB, Aaron Rodgers, at the helm, Green Bay coach Matt LeFluer opted to kick a field goal, and make a stop. \n",
    "\n",
    "Tampa go on to win the game, and then the Superbowl. The decision to opt for a field-goal was debated to the n-th degree, with Rodgers stating after the game 'I understand the thinking, but it wasn’t my decision'. Statements like this lead to a Summer of unrest. This was alleviated with another MVP level season, and another number 1 seed by the Packers.\n",
    "\n"
   ]
  },
  {
   "cell_type": "markdown",
   "id": "43ed508a",
   "metadata": {},
   "source": [
    "# Imports"
   ]
  },
  {
   "cell_type": "code",
   "execution_count": 17,
   "id": "d644eca9",
   "metadata": {},
   "outputs": [],
   "source": [
    "import pandas as pd\n",
    "import numpy as np\n",
    "import matplotlib.pyplot as plt\n",
    "from sklearn.linear_model import LogisticRegression\n",
    "from sklearn.model_selection import train_test_split\n",
    "from sklearn.preprocessing import StandardScaler\n"
   ]
  },
  {
   "cell_type": "markdown",
   "id": "5a8a877b",
   "metadata": {},
   "source": [
    "# Importing and Inspecting the Data"
   ]
  },
  {
   "cell_type": "code",
   "execution_count": 18,
   "id": "e1fc2685",
   "metadata": {},
   "outputs": [
    {
     "name": "stderr",
     "output_type": "stream",
     "text": [
      "/opt/anaconda3/lib/python3.8/site-packages/IPython/core/interactiveshell.py:3165: DtypeWarning: Columns (179,180,182,183,189,190,193,194,197,198,203,204,205,206,213,214,218,219,220,222,224,226,248,249,253,254,255,260,262,263,266,267,268,269,283,284,301) have mixed types.Specify dtype option on import or set low_memory=False.\n",
      "  has_raised = await self.run_ast_nodes(code_ast.body, cell_name,\n"
     ]
    }
   ],
   "source": [
    "data = pd.read_csv('play_by_play_2020.csv')\n",
    "\n",
    "all_plays_2020 = data[['game_id','posteam', 'defteam', 'yardline_100',\n",
    "                        'down', 'ydstogo', 'ydsnet', 'play_type', 'yards_gained',\n",
    "                        'pass_length', 'pass_location', 'air_yards','first_down_rush',\n",
    "                        'first_down_pass', 'incomplete_pass', 'interception','rush_attempt',\n",
    "                        'pass_attempt', 'touchdown', 'passer_player_id','passer_player_name',\n",
    "                        'receiver_player_id','receiver_player_name', 'receiving_yards',\n",
    "                        'rusher_player_id', 'rusher_player_name', 'rushing_yards', 'series_success',\n",
    "                        'series_result', 'play_type_nfl']]"
   ]
  },
  {
   "cell_type": "code",
   "execution_count": 7,
   "id": "8d15e827",
   "metadata": {},
   "outputs": [
    {
     "name": "stdout",
     "output_type": "stream",
     "text": [
      "          game_id posteam defteam  yardline_100  down  ydstogo  ydsnet  \\\n",
      "0  2020_01_ARI_SF     NaN     NaN           NaN   NaN        0     NaN   \n",
      "1  2020_01_ARI_SF      SF     ARI          35.0   NaN        0    41.0   \n",
      "2  2020_01_ARI_SF      SF     ARI          75.0   1.0       10    41.0   \n",
      "3  2020_01_ARI_SF      SF     ARI          55.0   1.0       10    41.0   \n",
      "4  2020_01_ARI_SF      SF     ARI          41.0   1.0       10    41.0   \n",
      "\n",
      "  play_type  yards_gained pass_length  ... passer_player_name  \\\n",
      "0       NaN           NaN         NaN  ...                NaN   \n",
      "1   kickoff           0.0         NaN  ...                NaN   \n",
      "2      pass           5.0       short  ...        J.Garoppolo   \n",
      "3       run          14.0         NaN  ...                NaN   \n",
      "4       run           2.0         NaN  ...                NaN   \n",
      "\n",
      "   receiver_player_id  receiver_player_name  receiving_yards  \\\n",
      "0                 NaN                   NaN              NaN   \n",
      "1                 NaN                   NaN              NaN   \n",
      "2          00-0033288              G.Kittle              5.0   \n",
      "3                 NaN                   NaN              NaN   \n",
      "4                 NaN                   NaN              NaN   \n",
      "\n",
      "   rusher_player_id  rusher_player_name  rushing_yards  series_success  \\\n",
      "0               NaN                 NaN            NaN               1   \n",
      "1               NaN                 NaN            NaN               1   \n",
      "2               NaN                 NaN            NaN               1   \n",
      "3        00-0031687           R.Mostert           14.0               1   \n",
      "4        00-0031687           R.Mostert            2.0               0   \n",
      "\n",
      "   series_result play_type_nfl  \n",
      "0     First down    GAME_START  \n",
      "1     First down      KICK_OFF  \n",
      "2     First down          PASS  \n",
      "3     First down          RUSH  \n",
      "4     Field goal          RUSH  \n",
      "\n",
      "[5 rows x 30 columns]\n"
     ]
    }
   ],
   "source": [
    "print(all_plays_2020.head(5))"
   ]
  },
  {
   "cell_type": "markdown",
   "id": "80315fd3",
   "metadata": {},
   "source": [
    "play_by_play_2020 is a file that I found online that someone scraped from the nfl plays python library. It contains all of the plays of the 2020 season.\n",
    "\n",
    "For all_plays_2020 I picked the columns which I thought may be relevant to conduct my test:\n",
    "\n",
    "## Column Descriptions\n",
    "\n",
    "* game_id - individual identifier for each game\n",
    "* posteam - team in possesion for the play\n",
    "* defteam - team defending for the play\n",
    "* yrdline100 - which yardline ball is on in respect to the whole field - 1-100\n",
    "* down - Which down is being played\n",
    "* ydstogo - Yards needed for a first down\n",
    "* ydsnet - net gain/loss of yards for play\n",
    "* play_type - Type of play\n",
    "* yards_gained - Amount of yards gained\n",
    "* pass_length - Short or deep\n",
    "* pass_location - Left,right, middle\n",
    "* air_yards - Distance ball traveled in the air\n",
    "* first_down_rush - ran for a first down 0/1\n",
    "* first_down_pass - passed for a first down 0/1\n",
    "* incomplete_pass - pass was not completed 0/1\n",
    "* intercept - pass was intercepted\n",
    "* rush_attempt - Was it a rushing play (Yes/No)\n",
    "* pass_attempt - Was a pass attempted (Yes/No)\n",
    "* touchdown - Touchdown scored (Yes/No)\n",
    "* passer_player_id - Individual id for each passer\n",
    "* passer_player_name - Name of passer\n",
    "* receiver_player_id - Individual id for each pass catcher\n",
    "* receiver_player_name - Name of pass catcher\n",
    "* receiving_yards - Receiving yards for play\n",
    "* rusher_player_id - Individual id for each rusher\n",
    "* rusher_player_name - Name of rusher\n",
    "* rushing_yards - Receiving yards for play\n",
    "* series_success - Was the series a success 1/0\n",
    "* series_result - First Down, Touchdown or Punt\n"
   ]
  },
  {
   "cell_type": "markdown",
   "id": "720d7947",
   "metadata": {},
   "source": [
    "# Sorting the Data\n",
    "\n",
    "This data set is obviously massive, so I needed to trim it down now\n",
    "\n",
    "So first of all I trim the dataset to just plays that are from the Packers."
   ]
  },
  {
   "cell_type": "code",
   "execution_count": 8,
   "id": "9e0d295f",
   "metadata": {},
   "outputs": [],
   "source": [
    "# Filtering Data to just Green Bay\n",
    "\n",
    "GB_plays = all_plays_2020['posteam'] == 'GB'\n",
    "GB_2020 = all_plays_2020[GB_plays]"
   ]
  },
  {
   "cell_type": "markdown",
   "id": "d44a9f19",
   "metadata": {},
   "source": [
    "The Packers were situated on the 8 yard line when they kicked the goal, meaning that a play less than 8 yards would have been a failure, while a play or more than 18 would have been a failure also, as the endzone is only 10 yards long. So, next I filtered plays out that went more than 18 yards."
   ]
  },
  {
   "cell_type": "code",
   "execution_count": 9,
   "id": "17f421af",
   "metadata": {},
   "outputs": [],
   "source": [
    "# Removing plays that went for > 18 yards\n",
    "GB_2020 = GB_2020[GB_2020['yards_gained'].between(0, 18)]"
   ]
  },
  {
   "cell_type": "markdown",
   "id": "d24a1571",
   "metadata": {},
   "source": [
    "For this analysis, I decided to choose only plays where the Packers required at least 8, and less than 18 yards. This may have been a bit restrictive but I wanted to remove plays where they may have only been looking for a 2/3 yard gain, and a broke tackle lead to a 60 yard touchdown. "
   ]
  },
  {
   "cell_type": "code",
   "execution_count": 10,
   "id": "57878d09",
   "metadata": {},
   "outputs": [],
   "source": [
    "# Removing plays that were under 8 yards needed and more than 18\n",
    "GB_2020 = GB_2020[GB_2020['ydstogo'].between(8, 18)]"
   ]
  },
  {
   "cell_type": "markdown",
   "id": "21907f3c",
   "metadata": {},
   "source": [
    "Finally, I removed plays that were not passes or runs, as punts or kick off's were not relevant."
   ]
  },
  {
   "cell_type": "code",
   "execution_count": 12,
   "id": "dc08ec7a",
   "metadata": {},
   "outputs": [
    {
     "name": "stdout",
     "output_type": "stream",
     "text": [
      "            game_id posteam defteam  yardline_100  down  ydstogo  ydsnet  \\\n",
      "748  2020_01_GB_MIN      GB     MIN          75.0   1.0       10    63.0   \n",
      "749  2020_01_GB_MIN      GB     MIN          73.0   2.0        8    63.0   \n",
      "751  2020_01_GB_MIN      GB     MIN          64.0   1.0       10    63.0   \n",
      "753  2020_01_GB_MIN      GB     MIN          52.0   1.0       10    63.0   \n",
      "755  2020_01_GB_MIN      GB     MIN          36.0   1.0       10    63.0   \n",
      "757  2020_01_GB_MIN      GB     MIN          25.0   1.0       10    63.0   \n",
      "760  2020_01_GB_MIN      GB     MIN          12.0   3.0       12    63.0   \n",
      "773  2020_01_GB_MIN      GB     MIN          75.0   1.0       10    74.0   \n",
      "774  2020_01_GB_MIN      GB     MIN          61.0   1.0       10    74.0   \n",
      "778  2020_01_GB_MIN      GB     MIN          25.0   1.0       10    74.0   \n",
      "\n",
      "    play_type  yards_gained pass_length  ... passer_player_name  \\\n",
      "748       run           2.0         NaN  ...                NaN   \n",
      "749       run           4.0         NaN  ...                NaN   \n",
      "751      pass           6.0       short  ...          A.Rodgers   \n",
      "753      pass           7.0       short  ...          A.Rodgers   \n",
      "755      pass           9.0       short  ...          A.Rodgers   \n",
      "757      pass          15.0       short  ...          A.Rodgers   \n",
      "760      pass           0.0       short  ...          A.Rodgers   \n",
      "773      pass          14.0       short  ...          A.Rodgers   \n",
      "774       run           5.0         NaN  ...                NaN   \n",
      "778      pass           7.0       short  ...          A.Rodgers   \n",
      "\n",
      "     receiver_player_id  receiver_player_name  receiving_yards  \\\n",
      "748                 NaN                   NaN              NaN   \n",
      "749                 NaN                   NaN              NaN   \n",
      "751          00-0033293               A.Jones              6.0   \n",
      "753          00-0031381               D.Adams              7.0   \n",
      "755          00-0034521              A.Lazard              9.0   \n",
      "757          00-0033948            J.Williams             15.0   \n",
      "760          00-0033293               A.Jones              NaN   \n",
      "773          00-0031381               D.Adams             14.0   \n",
      "774                 NaN                   NaN              NaN   \n",
      "778          00-0031381               D.Adams              7.0   \n",
      "\n",
      "     rusher_player_id  rusher_player_name  rushing_yards  series_success  \\\n",
      "748        00-0033293             A.Jones            2.0               1   \n",
      "749        00-0033293             A.Jones            4.0               1   \n",
      "751               NaN                 NaN            NaN               1   \n",
      "753               NaN                 NaN            NaN               1   \n",
      "755               NaN                 NaN            NaN               1   \n",
      "757               NaN                 NaN            NaN               1   \n",
      "760               NaN                 NaN            NaN               0   \n",
      "773               NaN                 NaN            NaN               1   \n",
      "774        00-0033948          J.Williams            5.0               1   \n",
      "778               NaN                 NaN            NaN               1   \n",
      "\n",
      "     series_result play_type_nfl  \n",
      "748     First down          RUSH  \n",
      "749     First down          RUSH  \n",
      "751     First down          PASS  \n",
      "753     First down          PASS  \n",
      "755     First down          PASS  \n",
      "757     First down          PASS  \n",
      "760     Field goal          PASS  \n",
      "773     First down          PASS  \n",
      "774     First down          RUSH  \n",
      "778     First down          PASS  \n",
      "\n",
      "[10 rows x 30 columns]\n",
      "(585, 30)\n"
     ]
    }
   ],
   "source": [
    "# Removing plays that are not passes or runs\n",
    "GB_2020 = GB_2020[(GB_2020['play_type'] == 'pass') | (GB_2020['play_type'] == 'run')]\n",
    "\n",
    "print(GB_2020.head(10))\n",
    "print(GB_2020.shape)"
   ]
  },
  {
   "cell_type": "markdown",
   "id": "fbf6a562",
   "metadata": {},
   "source": [
    "So after inspecting the data, there are 585 rows to play with"
   ]
  },
  {
   "cell_type": "markdown",
   "id": "22c789f5",
   "metadata": {},
   "source": [
    "# Adding Integer Based Columns\n",
    "\n",
    "To use the Linear Regression formula later, the columns used cannot be strings. So in this next section I added new columns which used current columns, to provide these integers. These columns are as follows:\n",
    "\n",
    "* receiving_success - If receiving yards >= 8 (already removed more than 18 yard plays) [1/0]\n",
    "* rushing_success - If rushing yards >= 8 ... [1/0]\n",
    "* successful_play - If a rush or pass went over 8 yards\n",
    "* play_type_int - Setting a pass to be 1, and a rush to be 0\n",
    "* defense - Buccs were set to 1, and everyone else to a 0\n",
    "* rusher_player_id - Giving players that played in this game an integer value, Aaron Jones-1, Jamaal Williams - 2 ,AJ Dillon - 3, Aaron Rodgers-4, 0 if the play wasnt a rush\n",
    "* receiver_player_id - Giving players that played in this game an integer value, Adams-1, Valdes-Scantling-2, Jones-3, Lazard-5, Williams-6,Lewis-7,Dillon-8, St.Brown-9,Tonyan-10. If play wasnt pass then 0\n"
   ]
  },
  {
   "cell_type": "code",
   "execution_count": 13,
   "id": "ba916dac",
   "metadata": {},
   "outputs": [
    {
     "name": "stdout",
     "output_type": "stream",
     "text": [
      "rusher_player_name  rusher_player_id\n",
      "A.Jones             1                   123\n",
      "J.Williams          2                    80\n",
      "A.Dillon            3                    35\n",
      "A.Rodgers           4                    11\n",
      "dtype: int64\n",
      "receiver_player_id  receiver_player_name\n",
      "1                   D.Adams                 88\n",
      "2                   M.Valdes-Scantling      44\n",
      "3                   A.Jones                 35\n",
      "10                  R.Tonyan                35\n",
      "5                   A.Lazard                26\n",
      "6                   J.Williams              19\n",
      "7                   M.Lewis                 11\n",
      "9                   E.St. Brown             10\n",
      "8                   A.Dillon                 3\n",
      "dtype: int64\n"
     ]
    }
   ],
   "source": [
    "# Passes under 8 yards won't be enough, so they will be given a 0 and > 8 will be given a 1\n",
    "GB_2020['receiving_success'] = np.where(GB_2020['receiving_yards'] >= 8, 1, 0)\n",
    "\n",
    "# Runs under 8 yards won't be enough, so they will be given a 0 and > 8 will be given a 1\n",
    "GB_2020['rushing_success'] = np.where(GB_2020['rushing_yards'] >= 8, 1, 0)\n",
    "\n",
    "# Where either one is a successful value\n",
    "GB_2020['successful_play'] = np.where((GB_2020['rushing_success'] == 1) | (GB_2020['receiving_success'] == 1),1,0)\n",
    "\n",
    "# Setting the plays into integer values\n",
    "GB_2020['play_type_int'] = np.where(GB_2020['play_type'] == 'pass',1,0)\n",
    "\n",
    "# Setting all other teams to 0 and the Buccs to 1\n",
    "GB_2020['defense'] = np.where(GB_2020['defteam'] == 'TB', 1, 0)\n",
    "\n",
    "# Changing GB rushers to integers\n",
    "GB_2020['rusher_player_id'] = GB_2020['rusher_player_id'].fillna(0)\n",
    "GB_2020[\"rusher_player_id\"].replace({\"00-0033293\": 1, \"00-0033948\": 2,\n",
    "                                     \"00-0036265\": 3, \"00-0023459\": 4}, inplace=True)\n",
    "\n",
    "#Dropping rushers who did not have a play vs Buccs\n",
    "values = [\"00-0032404\", \"00-0035161\", \"00-0034272\", \"00-0034995\", \"00-0035480\"]\n",
    "GB_2020 = GB_2020[GB_2020.rusher_player_id.isin(values) == False]\n",
    "print(GB_2020[['rusher_player_name','rusher_player_id']].value_counts())\n",
    "\n",
    "# Changing GB receivers to integers for players who received a pass in that game\n",
    "GB_2020['receiver_player_id'] = GB_2020['receiver_player_id'].fillna(0)\n",
    "GB_2020[\"receiver_player_id\"].replace({\"00-0031381\": 1, \"00-0034272\": 2,\n",
    "                                       \"00-0033293\": 3, \"00-003375\": 4,\n",
    "                                       \"00-0034521\": 5, \"00-0033948\": 6,\n",
    "                                       \"00-0024243\": 7, \"00-0036265\":8,\n",
    "                                       \"00-0034279\": 9, \"00-0033757\": 10}, inplace=True)\n",
    "\n",
    "#Dropoping receivers who did not have a play vs Buccs\n",
    "values_rec = [\"00-0032404\", \"00-0035671\", \"00-0035181\", \"00-0035480\", \"00-0036456\", \"00-0030525\", \"00-0036332\", '00-0025580']\n",
    "GB_2020 = GB_2020[GB_2020.receiver_player_id.isin(values_rec) == False]\n",
    "print(GB_2020[['receiver_player_id', 'receiver_player_name']].value_counts())\n"
   ]
  },
  {
   "cell_type": "markdown",
   "id": "02f925a0",
   "metadata": {},
   "source": [
    "# Defining Features and Success for the Test\n"
   ]
  },
  {
   "cell_type": "code",
   "execution_count": 14,
   "id": "ddecb0f6",
   "metadata": {
    "scrolled": false
   },
   "outputs": [
    {
     "name": "stdout",
     "output_type": "stream",
     "text": [
      "     defense  play_type_int rusher_player_id receiver_player_id  yardline_100  \\\n",
      "748        0              0                1                  0          75.0   \n",
      "749        0              0                1                  0          73.0   \n",
      "751        0              1                0                  3          64.0   \n",
      "753        0              1                0                  1          52.0   \n",
      "755        0              1                0                  5          36.0   \n",
      "\n",
      "     down  ydstogo  \n",
      "748   1.0       10  \n",
      "749   2.0        8  \n",
      "751   1.0       10  \n",
      "753   1.0       10  \n",
      "755   1.0       10  \n",
      "748      0\n",
      "749      0\n",
      "751      0\n",
      "753      0\n",
      "755      1\n",
      "        ..\n",
      "48305    0\n",
      "48306    1\n",
      "48308    0\n",
      "48309    0\n",
      "48310    0\n",
      "Name: successful_play, Length: 541, dtype: int64\n"
     ]
    }
   ],
   "source": [
    "# Select the desired features\n",
    "features = GB_2020[[\"defense\", \"play_type_int\", \"rusher_player_id\", \"receiver_player_id\",\n",
    "                    \"yardline_100\", \"down\", \"ydstogo\"]]\n",
    "print(features.head())\n",
    "\n",
    "# Define Success\n",
    "touchdown = GB_2020['successful_play']\n",
    "print(touchdown)"
   ]
  },
  {
   "cell_type": "markdown",
   "id": "4bfb6a82",
   "metadata": {},
   "source": [
    "# Performing Test Train Split\n"
   ]
  },
  {
   "cell_type": "code",
   "execution_count": 15,
   "id": "64531a02",
   "metadata": {},
   "outputs": [],
   "source": [
    "X_train, X_test, y_train, y_test = train_test_split(\n",
    "    features,\n",
    "    touchdown,\n",
    "    test_size = 0.2,\n",
    "    random_state = 1)"
   ]
  },
  {
   "cell_type": "markdown",
   "id": "2d5f6462",
   "metadata": {},
   "source": [
    "# Normalising the Data"
   ]
  },
  {
   "cell_type": "code",
   "execution_count": 19,
   "id": "f1c64808",
   "metadata": {},
   "outputs": [],
   "source": [
    "# Normalising the data, so it has a mean of 0 and standard deviation of 1\n",
    "scaler = StandardScaler()\n",
    "X_train_scaled = scaler.fit_transform(X_train)\n",
    "X_test_scaled = scaler.transform(X_test)"
   ]
  },
  {
   "cell_type": "markdown",
   "id": "1faf2226",
   "metadata": {},
   "source": [
    "# Creating and Training the Model"
   ]
  },
  {
   "cell_type": "code",
   "execution_count": 20,
   "id": "692576f0",
   "metadata": {},
   "outputs": [
    {
     "name": "stdout",
     "output_type": "stream",
     "text": [
      "0.6972477064220184\n"
     ]
    }
   ],
   "source": [
    "# Create and train the model\n",
    "model = LogisticRegression()\n",
    "model.fit(X_train_scaled, y_train)\n",
    "\n",
    "print(model.score(X_test_scaled, y_test))"
   ]
  },
  {
   "cell_type": "markdown",
   "id": "d1e0fb70",
   "metadata": {},
   "source": [
    "So this means that the model has an accuracy of around 70%. It could be better but after having so many issues in getting to this point I was satisfied"
   ]
  },
  {
   "cell_type": "code",
   "execution_count": 21,
   "id": "f1c0f882",
   "metadata": {},
   "outputs": [
    {
     "name": "stdout",
     "output_type": "stream",
     "text": [
      "[('defense', -0.10495506749315903), ('play_type_int', 0.6450748174559336), ('rusher_player_id', 0.3159315948524717), ('receiver_player_id', 0.059142721436735615), ('yardline_100', 0.012940130089951405), ('down', -0.1004679188562551), ('ydstogo', -0.014560585976159146)]\n"
     ]
    }
   ],
   "source": [
    "# Analyze the coefficients\n",
    "model.coef_     # a vector of the coefficients of each feature\n",
    "print(list(zip(X_train.columns, model.coef_[0])))"
   ]
  },
  {
   "cell_type": "markdown",
   "id": "95545877",
   "metadata": {},
   "source": [
    "From the coefficients, the type of play had the largest bearing on whether it was a success or not."
   ]
  },
  {
   "cell_type": "markdown",
   "id": "7b39b430",
   "metadata": {},
   "source": [
    "# Creating Models for Predictions"
   ]
  },
  {
   "cell_type": "code",
   "execution_count": 22,
   "id": "78d70889",
   "metadata": {},
   "outputs": [],
   "source": [
    "# Creating Models to predict based on the features\n",
    "pass_to_adams = [1,1,0,1,8,4,8]\n",
    "pass_to_Valdes_Scantling = [1,1,0,2,8,4,8]\n",
    "pass_to_lewis = [1,1,0,7,8,4,8]\n",
    "pass_to_Jones = [1,1,0,3,8,4,8]\n",
    "pass_to_Tonyan = [1,1,0,10,8,4,8]\n",
    "pass_to_Lazard = [1,1,0,5,8,4,8]\n",
    "pass_to_Williams = [1,1,0,6,8,4,8]\n",
    "pass_to_St_Brown = [1,1,0,9,8,4,8]\n",
    "pass_to_Dillon = [1,1,0,8,8,4,8]\n",
    "\n",
    "run_by_jones = [1,0,1,0,8,4,8]\n",
    "run_by_Williams = [1,0,2,0,8,4,8]\n",
    "run_by_Dillon = [1,0,3,0,8,4,8]\n",
    "run_by_Rodgers = [1,0,4,0,8,4,8]"
   ]
  },
  {
   "cell_type": "markdown",
   "id": "18a1a751",
   "metadata": {},
   "source": [
    "## Combining Arrays"
   ]
  },
  {
   "cell_type": "code",
   "execution_count": 23,
   "id": "b628e1ae",
   "metadata": {},
   "outputs": [],
   "source": [
    "sample_passes = np.array([pass_to_adams, pass_to_lewis, pass_to_Valdes_Scantling,pass_to_Jones,\n",
    "                          pass_to_Tonyan, pass_to_Williams, pass_to_St_Brown, pass_to_Dillon, pass_to_Lazard])\n",
    "sample_runs = np.array([run_by_jones, run_by_Williams, run_by_Dillon, run_by_Rodgers])\n",
    "\n"
   ]
  },
  {
   "cell_type": "code",
   "execution_count": 24,
   "id": "fbb1f875",
   "metadata": {
    "scrolled": false
   },
   "outputs": [
    {
     "name": "stdout",
     "output_type": "stream",
     "text": [
      "[[ 2.53934556  0.924163   -0.77694291 -0.30986763 -1.98107157  4.09560103\n",
      "  -1.68984878]\n",
      " [ 2.53934556  0.924163   -0.77694291  1.7338395  -1.98107157  4.09560103\n",
      "  -1.68984878]\n",
      " [ 2.53934556  0.924163   -0.77694291  0.03075022 -1.98107157  4.09560103\n",
      "  -1.68984878]\n",
      " [ 2.53934556  0.924163   -0.77694291  0.37136808 -1.98107157  4.09560103\n",
      "  -1.68984878]\n",
      " [ 2.53934556  0.924163   -0.77694291  2.75569306 -1.98107157  4.09560103\n",
      "  -1.68984878]\n",
      " [ 2.53934556  0.924163   -0.77694291  1.39322164 -1.98107157  4.09560103\n",
      "  -1.68984878]\n",
      " [ 2.53934556  0.924163   -0.77694291  2.41507521 -1.98107157  4.09560103\n",
      "  -1.68984878]\n",
      " [ 2.53934556  0.924163   -0.77694291  2.07445735 -1.98107157  4.09560103\n",
      "  -1.68984878]\n",
      " [ 2.53934556  0.924163   -0.77694291  1.05260379 -1.98107157  4.09560103\n",
      "  -1.68984878]]\n",
      "[[ 2.53934556 -1.0820602   0.16852001 -0.65048549 -1.98107157  4.09560103\n",
      "  -1.68984878]\n",
      " [ 2.53934556 -1.0820602   1.11398293 -0.65048549 -1.98107157  4.09560103\n",
      "  -1.68984878]\n",
      " [ 2.53934556 -1.0820602   2.05944585 -0.65048549 -1.98107157  4.09560103\n",
      "  -1.68984878]\n",
      " [ 2.53934556 -1.0820602   3.00490877 -0.65048549 -1.98107157  4.09560103\n",
      "  -1.68984878]]\n"
     ]
    }
   ],
   "source": [
    "# Scale the sample plays features\n",
    "sample_passes_scaled = scaler.transform(sample_passes)\n",
    "sample_runs_scaled = scaler.transform(sample_runs)\n",
    "print(sample_passes_scaled)\n",
    "print(sample_runs_scaled)"
   ]
  },
  {
   "cell_type": "markdown",
   "id": "f5a67ca5",
   "metadata": {},
   "source": [
    "# Making Scoring Predictions"
   ]
  },
  {
   "cell_type": "code",
   "execution_count": 26,
   "id": "b0d6512c",
   "metadata": {
    "scrolled": true
   },
   "outputs": [
    {
     "name": "stdout",
     "output_type": "stream",
     "text": [
      "Passing predictions are : [0 0 0 0 0 0 0 0 0]\n",
      "Passing probabilities are : [[0.8067166  0.1932834 ]\n",
      " [0.787169   0.212831  ]\n",
      " [0.80355607 0.19644393]\n",
      " [0.80035663 0.19964337]\n",
      " [0.77686842 0.22313158]\n",
      " [0.79052446 0.20947554]\n",
      " [0.78034096 0.21965904]\n",
      " [0.7837745  0.2162255 ]\n",
      " [0.79384087 0.20615913]]\n",
      "Running predictions are : [0 0 0 0]\n",
      "Running probabilities are : [[0.92015262 0.07984738]\n",
      " [0.89526823 0.10473177]\n",
      " [0.86377675 0.13622325]\n",
      " [0.82467062 0.17532938]]\n"
     ]
    }
   ],
   "source": [
    "# Make scoring predictions\n",
    "prediction_pass = model.predict(sample_passes_scaled)\n",
    "prediction_run = model.predict(sample_runs_scaled)\n",
    "probabilities_pass = model.predict_proba(sample_passes_scaled)\n",
    "probabilities_run = model.predict_proba(sample_runs_scaled)\n",
    "\n",
    "print('Passing predictions are : ' + str(prediction_pass))\n",
    "print('Passing probabilities are : ' + str(probabilities_pass))\n",
    "print('Running predictions are : ' + str(prediction_run))\n",
    "print('Running probabilities are : ' + str(probabilities_run))"
   ]
  },
  {
   "cell_type": "markdown",
   "id": "acf9866e",
   "metadata": {},
   "source": [
    "So looking at the arrays, it seems like my model was adamant that a touchdown would not be scored by any player. I was surprised by the low percentages, even by fringe plays like a run by Rodgers. I had thought by including some of his scrambles it would provide a touchdown prediction but I was wrong. b"
   ]
  },
  {
   "cell_type": "code",
   "execution_count": 27,
   "id": "bfd5e2b7",
   "metadata": {
    "scrolled": true
   },
   "outputs": [
    {
     "data": {
      "image/png": "[encoded data removed]",
      "text/plain": [
       "<Figure size 432x288 with 1 Axes>"
      ]
     },
     "metadata": {
      "needs_background": "light"
     },
     "output_type": "display_data"
    }
   ],
   "source": [
    "# Passing Plots\n",
    "x = range(len(sample_passes))\n",
    "y = probabilities_pass[:, 1]\n",
    "\n",
    "plt.bar(x, y * 100, align=\"center\")\n",
    "plt.yticks(np.arange(0, 101, 25), (\"0%\", \"25%\", \"50%\", \"75%\", \"100%\"))\n",
    "plt.xticks(np.arange(9), (\"Davante Adams\", \"Valdes Scantling\", \"Mercedes Lewis\", \"Aaron Jones\",\n",
    "                          \"Robert Tonyan\", \"Jamaal Williams\", \"Equanimeous St. Brown\", \"AJ Dillon\", 'Allan Lazard'),\n",
    "           rotation=45, ha='right', rotation_mode='anchor')\n",
    "\n",
    "for xd,yd in zip(x,y):\n",
    "\n",
    "    label = \"{:.2f}\".format(yd * 100)\n",
    "\n",
    "    plt.annotate(label, # this is the text\n",
    "                 (xd,yd), # these are the coordinates to position the label\n",
    "                 textcoords=\"offset points\", # how to position the text\n",
    "                 xytext=(0,10), # distance from text to points (x,y)\n",
    "                 ha='center') # horizontal alignment can be left, right or center\n",
    "plt.title(\"Chance of Touchdown by Pass\")\n",
    "\n",
    "plt.tight_layout()\n",
    "plt.show()"
   ]
  },
  {
   "cell_type": "code",
   "execution_count": 28,
   "id": "06b002ac",
   "metadata": {
    "scrolled": true
   },
   "outputs": [
    {
     "data": {
      "image/png": "[encoded data removed]",
      "text/plain": [
       "<Figure size 432x288 with 1 Axes>"
      ]
     },
     "metadata": {
      "needs_background": "light"
     },
     "output_type": "display_data"
    }
   ],
   "source": [
    "# Running Plots\n",
    "\n",
    "x_2 = range(len(sample_runs))\n",
    "y_2 = probabilities_run[:, 1]\n",
    "\n",
    "plt.bar(x_2, y_2 * 100, align=\"center\")\n",
    "plt.yticks(np.arange(0, 101, 25), (\"0%\", \"25%\", \"50%\", \"75%\", \"100%\"))\n",
    "plt.xticks(np.arange(4), ( \"Aaron Jones\", \"Jamaal Williams\",\"AJ Dillon\", 'Aaron Rodgers'),\n",
    "           rotation=45, ha='right', rotation_mode='anchor')\n",
    "plt.title(\"Chance of Touchdown by Run\")\n",
    "\n",
    "for xr,yr in zip(x_2,y_2):\n",
    "\n",
    "    label = \"{:.2f}\".format(yr * 100)\n",
    "\n",
    "    plt.annotate(label, # this is the text\n",
    "                 (xr,yr), # these are the coordinates to position the label\n",
    "                 textcoords=\"offset points\", # how to position the text\n",
    "                 xytext=(0,10), # distance from text to points (x,y)\n",
    "                 ha='center') # horizontal alignment can be left, right or center\n",
    "plt.tight_layout()\n",
    "plt.show()"
   ]
  },
  {
   "cell_type": "markdown",
   "id": "a8e726f8",
   "metadata": {},
   "source": [
    "# Conclusions\n",
    "\n",
    "* The best option for a pass is to Robert Tonyan, who has a touchdown likelyhood of 23%.\n",
    "* The best option for a run is for Aaron Rodgers to keep it himself and go for it, with a touchdown likelyhood of 18%\n",
    "\n",
    "* Over the last two seasons, Davante Adams has been the best wide-receiver in the NFL, so passing to him would be extremely likely, however the defense would know this so spreading the ball to another trusted receiver would make some sense here.\n",
    "\n",
    "* An attempeted run would have been extremely unlikely here, and the above predictions show why. Aaron Rodgers being the highest predicted makes some sense but it would have required a pass play to have been called, and no receivers to have been open. Rodgers is good at these so the Bucc's probably would have designated a player to watch him.\n",
    "\n",
    "So if I was Matt LeFluer would I have have kicked the field goal as well after looking at these results ? \n",
    "No.\n",
    "\n",
    "The score was 31-23, so after taking the field goal, the Packers defense needed to stop the Buccs in getting a first down to seal the game, and then go down and score a touchdown as another field goal wouldn't have sufficed. The Packers struggled to contain the Buccs for most of the game, and defense wasnt their strong point all year.\n",
    "\n",
    "To me, the question should have been do we go for two on the extra point from the touchdown. Maybe that can be my next analysis. \n",
    "\n",
    "But the main reason the Packers should have gone for it there and then is because of one man...\n",
    "\n",
    "## Aaron Rodgers\n",
    "\n",
    "since...\n"
   ]
  },
  {
   "cell_type": "markdown",
   "id": "a778e60f",
   "metadata": {},
   "source": [
    "![ChessUrl](https://c.tenor.com/JWy_yYA7vTQAAAAC/aaron-rodgers-bad-man.gif \"chess\")"
   ]
  }
 ],
 "metadata": {
  "kernelspec": {
   "display_name": "Python 3",
   "language": "python",
   "name": "python3"
  },
  "language_info": {
   "codemirror_mode": {
    "name": "ipython",
    "version": 3
   },
   "file_extension": ".py",
   "mimetype": "text/x-python",
   "name": "python",
   "nbconvert_exporter": "python",
   "pygments_lexer": "ipython3",
   "version": "3.8.8"
  }
 },
 "nbformat": 4,
 "nbformat_minor": 5
}
